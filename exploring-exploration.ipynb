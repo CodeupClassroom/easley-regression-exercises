{
 "cells": [
  {
   "cell_type": "code",
   "execution_count": 1,
   "id": "suspended-presentation",
   "metadata": {},
   "outputs": [],
   "source": [
    "import numpy as np\n",
    "import pandas as pd\n",
    "import seaborn as sns\n",
    "import matplotlib.pyplot as plt\n",
    "import env\n",
    "\n",
    "from sklearn.model_selection import train_test_split\n",
    "\n",
    "import sklearn.preprocessing"
   ]
  },
  {
   "cell_type": "code",
   "execution_count": 2,
   "id": "adopted-jimmy",
   "metadata": {},
   "outputs": [],
   "source": [
    "# connection function for accessing mysql \n",
    "def get_connection(db, user=env.user, host=env.host, password=env.password):\n",
    "    return f'mysql+pymysql://{user}:{password}@{host}/{db}'\n"
   ]
  },
  {
   "cell_type": "code",
   "execution_count": 3,
   "id": "vertical-transaction",
   "metadata": {},
   "outputs": [],
   "source": [
    "def split_data(df, stratify_by=\"\"):\n",
    "    '''\n",
    "    take in a DataFrame and return train, validate, and test DataFrames.\n",
    "    return train, validate, test DataFrames.\n",
    "    '''\n",
    "    train_validate, test = train_test_split(df, test_size=.2, random_state=123)\n",
    "    train, validate = train_test_split(train_validate, \n",
    "                                       test_size=.3, \n",
    "                                       random_state=123)\n",
    "    return train, validate, test"
   ]
  },
  {
   "cell_type": "code",
   "execution_count": 4,
   "id": "quick-orlando",
   "metadata": {},
   "outputs": [
    {
     "data": {
      "text/html": [
       "<div>\n",
       "<style scoped>\n",
       "    .dataframe tbody tr th:only-of-type {\n",
       "        vertical-align: middle;\n",
       "    }\n",
       "\n",
       "    .dataframe tbody tr th {\n",
       "        vertical-align: top;\n",
       "    }\n",
       "\n",
       "    .dataframe thead th {\n",
       "        text-align: right;\n",
       "    }\n",
       "</style>\n",
       "<table border=\"1\" class=\"dataframe\">\n",
       "  <thead>\n",
       "    <tr style=\"text-align: right;\">\n",
       "      <th></th>\n",
       "      <th>parcelid</th>\n",
       "      <th>id</th>\n",
       "      <th>airconditioningtypeid</th>\n",
       "      <th>architecturalstyletypeid</th>\n",
       "      <th>basementsqft</th>\n",
       "      <th>bathroomcnt</th>\n",
       "      <th>bedroomcnt</th>\n",
       "      <th>buildingclasstypeid</th>\n",
       "      <th>buildingqualitytypeid</th>\n",
       "      <th>calculatedbathnbr</th>\n",
       "      <th>...</th>\n",
       "      <th>taxvaluedollarcnt</th>\n",
       "      <th>assessmentyear</th>\n",
       "      <th>landtaxvaluedollarcnt</th>\n",
       "      <th>taxamount</th>\n",
       "      <th>taxdelinquencyflag</th>\n",
       "      <th>taxdelinquencyyear</th>\n",
       "      <th>censustractandblock</th>\n",
       "      <th>id</th>\n",
       "      <th>logerror</th>\n",
       "      <th>transactiondate</th>\n",
       "    </tr>\n",
       "  </thead>\n",
       "  <tbody>\n",
       "    <tr>\n",
       "      <th>0</th>\n",
       "      <td>11289917</td>\n",
       "      <td>2061546</td>\n",
       "      <td>1.0</td>\n",
       "      <td>None</td>\n",
       "      <td>None</td>\n",
       "      <td>2.0</td>\n",
       "      <td>3.0</td>\n",
       "      <td>NaN</td>\n",
       "      <td>6.0</td>\n",
       "      <td>2.0</td>\n",
       "      <td>...</td>\n",
       "      <td>136104.0</td>\n",
       "      <td>2016.0</td>\n",
       "      <td>27214.0</td>\n",
       "      <td>2319.90</td>\n",
       "      <td>Y</td>\n",
       "      <td>15.0</td>\n",
       "      <td>6.037901e+13</td>\n",
       "      <td>1248</td>\n",
       "      <td>-0.362001</td>\n",
       "      <td>2017-06-23</td>\n",
       "    </tr>\n",
       "    <tr>\n",
       "      <th>1</th>\n",
       "      <td>11705026</td>\n",
       "      <td>1834372</td>\n",
       "      <td>NaN</td>\n",
       "      <td>None</td>\n",
       "      <td>None</td>\n",
       "      <td>1.0</td>\n",
       "      <td>2.0</td>\n",
       "      <td>NaN</td>\n",
       "      <td>6.0</td>\n",
       "      <td>1.0</td>\n",
       "      <td>...</td>\n",
       "      <td>35606.0</td>\n",
       "      <td>2016.0</td>\n",
       "      <td>23624.0</td>\n",
       "      <td>543.69</td>\n",
       "      <td>None</td>\n",
       "      <td>NaN</td>\n",
       "      <td>6.037232e+13</td>\n",
       "      <td>1772</td>\n",
       "      <td>-0.146056</td>\n",
       "      <td>2017-06-30</td>\n",
       "    </tr>\n",
       "    <tr>\n",
       "      <th>2</th>\n",
       "      <td>11389003</td>\n",
       "      <td>2121349</td>\n",
       "      <td>NaN</td>\n",
       "      <td>None</td>\n",
       "      <td>None</td>\n",
       "      <td>2.0</td>\n",
       "      <td>3.0</td>\n",
       "      <td>NaN</td>\n",
       "      <td>6.0</td>\n",
       "      <td>2.0</td>\n",
       "      <td>...</td>\n",
       "      <td>614000.0</td>\n",
       "      <td>2016.0</td>\n",
       "      <td>449000.0</td>\n",
       "      <td>7673.19</td>\n",
       "      <td>None</td>\n",
       "      <td>NaN</td>\n",
       "      <td>6.037703e+13</td>\n",
       "      <td>3273</td>\n",
       "      <td>-0.325393</td>\n",
       "      <td>2017-06-01</td>\n",
       "    </tr>\n",
       "    <tr>\n",
       "      <th>3</th>\n",
       "      <td>11967869</td>\n",
       "      <td>2093710</td>\n",
       "      <td>NaN</td>\n",
       "      <td>None</td>\n",
       "      <td>None</td>\n",
       "      <td>1.0</td>\n",
       "      <td>2.0</td>\n",
       "      <td>NaN</td>\n",
       "      <td>5.0</td>\n",
       "      <td>1.0</td>\n",
       "      <td>...</td>\n",
       "      <td>274237.0</td>\n",
       "      <td>2016.0</td>\n",
       "      <td>191821.0</td>\n",
       "      <td>3267.47</td>\n",
       "      <td>None</td>\n",
       "      <td>NaN</td>\n",
       "      <td>6.037185e+13</td>\n",
       "      <td>3429</td>\n",
       "      <td>-0.005566</td>\n",
       "      <td>2017-06-29</td>\n",
       "    </tr>\n",
       "    <tr>\n",
       "      <th>4</th>\n",
       "      <td>12035176</td>\n",
       "      <td>1288537</td>\n",
       "      <td>NaN</td>\n",
       "      <td>None</td>\n",
       "      <td>None</td>\n",
       "      <td>1.0</td>\n",
       "      <td>1.0</td>\n",
       "      <td>NaN</td>\n",
       "      <td>11.0</td>\n",
       "      <td>1.0</td>\n",
       "      <td>...</td>\n",
       "      <td>245906.0</td>\n",
       "      <td>2016.0</td>\n",
       "      <td>146810.0</td>\n",
       "      <td>2926.19</td>\n",
       "      <td>None</td>\n",
       "      <td>NaN</td>\n",
       "      <td>6.037189e+13</td>\n",
       "      <td>5444</td>\n",
       "      <td>-0.114435</td>\n",
       "      <td>2017-05-24</td>\n",
       "    </tr>\n",
       "  </tbody>\n",
       "</table>\n",
       "<p>5 rows × 62 columns</p>\n",
       "</div>"
      ],
      "text/plain": [
       "   parcelid       id  airconditioningtypeid architecturalstyletypeid  \\\n",
       "0  11289917  2061546                    1.0                     None   \n",
       "1  11705026  1834372                    NaN                     None   \n",
       "2  11389003  2121349                    NaN                     None   \n",
       "3  11967869  2093710                    NaN                     None   \n",
       "4  12035176  1288537                    NaN                     None   \n",
       "\n",
       "  basementsqft  bathroomcnt  bedroomcnt  buildingclasstypeid  \\\n",
       "0         None          2.0         3.0                  NaN   \n",
       "1         None          1.0         2.0                  NaN   \n",
       "2         None          2.0         3.0                  NaN   \n",
       "3         None          1.0         2.0                  NaN   \n",
       "4         None          1.0         1.0                  NaN   \n",
       "\n",
       "   buildingqualitytypeid  calculatedbathnbr  ... taxvaluedollarcnt  \\\n",
       "0                    6.0                2.0  ...          136104.0   \n",
       "1                    6.0                1.0  ...           35606.0   \n",
       "2                    6.0                2.0  ...          614000.0   \n",
       "3                    5.0                1.0  ...          274237.0   \n",
       "4                   11.0                1.0  ...          245906.0   \n",
       "\n",
       "  assessmentyear  landtaxvaluedollarcnt  taxamount taxdelinquencyflag  \\\n",
       "0         2016.0                27214.0    2319.90                  Y   \n",
       "1         2016.0                23624.0     543.69               None   \n",
       "2         2016.0               449000.0    7673.19               None   \n",
       "3         2016.0               191821.0    3267.47               None   \n",
       "4         2016.0               146810.0    2926.19               None   \n",
       "\n",
       "   taxdelinquencyyear censustractandblock    id  logerror transactiondate  \n",
       "0                15.0        6.037901e+13  1248 -0.362001      2017-06-23  \n",
       "1                 NaN        6.037232e+13  1772 -0.146056      2017-06-30  \n",
       "2                 NaN        6.037703e+13  3273 -0.325393      2017-06-01  \n",
       "3                 NaN        6.037185e+13  3429 -0.005566      2017-06-29  \n",
       "4                 NaN        6.037189e+13  5444 -0.114435      2017-05-24  \n",
       "\n",
       "[5 rows x 62 columns]"
      ]
     },
     "execution_count": 4,
     "metadata": {},
     "output_type": "execute_result"
    }
   ],
   "source": [
    "# Acquire\n",
    "\n",
    "query = \"\"\"\n",
    "select * \n",
    "from properties_2017\n",
    "join predictions_2017 using(parcelid)\n",
    "where transactiondate between \"2017-05-01\" and \"2017-06-30\"\n",
    "and unitcnt = 1;\n",
    "\"\"\"\n",
    "\n",
    "df = pd.read_sql(query, get_connection('zillow'))\n",
    "df.head()"
   ]
  },
  {
   "cell_type": "markdown",
   "id": "loose-slovak",
   "metadata": {},
   "source": [
    "## Prep"
   ]
  },
  {
   "cell_type": "code",
   "execution_count": 5,
   "id": "experienced-google",
   "metadata": {},
   "outputs": [],
   "source": [
    "# Some prep\n",
    "df = df.rename(columns={\"bedroomcnt\": \"bedrooms\", \"bathroomcnt\": \"bathrooms\", \"calculatedfinishedsquarefeet\": \"square_feet\", \"taxamount\": \"taxes\", \"taxvaluedollarcnt\": \"tax_value\"})"
   ]
  },
  {
   "cell_type": "code",
   "execution_count": 6,
   "id": "excess-chemistry",
   "metadata": {},
   "outputs": [],
   "source": [
    "features = [\n",
    "    \"parcelid\",\n",
    "    \"bedrooms\",\n",
    "    \"bathrooms\",\n",
    "    \"square_feet\",\n",
    "    \"tax_value\"\n",
    "]\n",
    "\n",
    "df = df[features]\n",
    "df = df.set_index(\"parcelid\")\n",
    "\n",
    "# Let's drop the nulls\n",
    "df = df.dropna()"
   ]
  },
  {
   "cell_type": "code",
   "execution_count": 7,
   "id": "comparable-jonathan",
   "metadata": {},
   "outputs": [],
   "source": [
    "train, validate, test = split_data(df, stratify_by=\"tax_value\")"
   ]
  },
  {
   "cell_type": "code",
   "execution_count": 8,
   "id": "virtual-evanescence",
   "metadata": {},
   "outputs": [
    {
     "data": {
      "text/html": [
       "<div>\n",
       "<style scoped>\n",
       "    .dataframe tbody tr th:only-of-type {\n",
       "        vertical-align: middle;\n",
       "    }\n",
       "\n",
       "    .dataframe tbody tr th {\n",
       "        vertical-align: top;\n",
       "    }\n",
       "\n",
       "    .dataframe thead th {\n",
       "        text-align: right;\n",
       "    }\n",
       "</style>\n",
       "<table border=\"1\" class=\"dataframe\">\n",
       "  <thead>\n",
       "    <tr style=\"text-align: right;\">\n",
       "      <th></th>\n",
       "      <th>bedrooms</th>\n",
       "      <th>bathrooms</th>\n",
       "      <th>square_feet</th>\n",
       "      <th>tax_value</th>\n",
       "    </tr>\n",
       "    <tr>\n",
       "      <th>parcelid</th>\n",
       "      <th></th>\n",
       "      <th></th>\n",
       "      <th></th>\n",
       "      <th></th>\n",
       "    </tr>\n",
       "  </thead>\n",
       "  <tbody>\n",
       "    <tr>\n",
       "      <th>11063835</th>\n",
       "      <td>3.0</td>\n",
       "      <td>2.0</td>\n",
       "      <td>2512.0</td>\n",
       "      <td>119038.0</td>\n",
       "    </tr>\n",
       "    <tr>\n",
       "      <th>12464049</th>\n",
       "      <td>2.0</td>\n",
       "      <td>2.0</td>\n",
       "      <td>1253.0</td>\n",
       "      <td>336961.0</td>\n",
       "    </tr>\n",
       "    <tr>\n",
       "      <th>11056435</th>\n",
       "      <td>3.0</td>\n",
       "      <td>2.0</td>\n",
       "      <td>1477.0</td>\n",
       "      <td>310574.0</td>\n",
       "    </tr>\n",
       "    <tr>\n",
       "      <th>11644296</th>\n",
       "      <td>3.0</td>\n",
       "      <td>3.0</td>\n",
       "      <td>3006.0</td>\n",
       "      <td>813831.0</td>\n",
       "    </tr>\n",
       "    <tr>\n",
       "      <th>12543949</th>\n",
       "      <td>2.0</td>\n",
       "      <td>1.0</td>\n",
       "      <td>986.0</td>\n",
       "      <td>243459.0</td>\n",
       "    </tr>\n",
       "  </tbody>\n",
       "</table>\n",
       "</div>"
      ],
      "text/plain": [
       "          bedrooms  bathrooms  square_feet  tax_value\n",
       "parcelid                                             \n",
       "11063835       3.0        2.0       2512.0   119038.0\n",
       "12464049       2.0        2.0       1253.0   336961.0\n",
       "11056435       3.0        2.0       1477.0   310574.0\n",
       "11644296       3.0        3.0       3006.0   813831.0\n",
       "12543949       2.0        1.0        986.0   243459.0"
      ]
     },
     "execution_count": 8,
     "metadata": {},
     "output_type": "execute_result"
    }
   ],
   "source": [
    "train.head()"
   ]
  },
  {
   "cell_type": "code",
   "execution_count": 9,
   "id": "lesser-recording",
   "metadata": {},
   "outputs": [
    {
     "data": {
      "text/plain": [
       "<AxesSubplot:>"
      ]
     },
     "execution_count": 9,
     "metadata": {},
     "output_type": "execute_result"
    },
    {
     "data": {
      "image/png": "[encoded data removed]",
      "text/plain": [
       "<Figure size 432x288 with 1 Axes>"
      ]
     },
     "metadata": {
      "needs_background": "light"
     },
     "output_type": "display_data"
    }
   ],
   "source": [
    "# Step 1 is to get to know individual variables\n",
    "# Start the distributions\n",
    "train.bedrooms.hist()"
   ]
  },
  {
   "cell_type": "code",
   "execution_count": 10,
   "id": "approved-photography",
   "metadata": {},
   "outputs": [
    {
     "data": {
      "text/plain": [
       "<AxesSubplot:>"
      ]
     },
     "execution_count": 10,
     "metadata": {},
     "output_type": "execute_result"
    },
    {
     "data": {
      "image/png": "[encoded data removed]",
      "text/plain": [
       "<Figure size 432x288 with 1 Axes>"
      ]
     },
     "metadata": {
      "needs_background": "light"
     },
     "output_type": "display_data"
    }
   ],
   "source": [
    "train.bathrooms.hist()"
   ]
  },
  {
   "cell_type": "code",
   "execution_count": 12,
   "id": "sunset-ticket",
   "metadata": {},
   "outputs": [
    {
     "data": {
      "text/plain": [
       "<AxesSubplot:>"
      ]
     },
     "execution_count": 12,
     "metadata": {},
     "output_type": "execute_result"
    },
    {
     "data": {
      "image/png": "[encoded data removed]",
      "text/plain": [
       "<Figure size 432x288 with 1 Axes>"
      ]
     },
     "metadata": {
      "needs_background": "light"
     },
     "output_type": "display_data"
    }
   ],
   "source": [
    "train.square_feet.hist(bins=100)"
   ]
  },
  {
   "cell_type": "code",
   "execution_count": 13,
   "id": "political-helicopter",
   "metadata": {},
   "outputs": [
    {
     "data": {
      "text/plain": [
       "<AxesSubplot:>"
      ]
     },
     "execution_count": 13,
     "metadata": {},
     "output_type": "execute_result"
    },
    {
     "data": {
      "image/png": "[encoded data removed]",
      "text/plain": [
       "<Figure size 432x288 with 1 Axes>"
      ]
     },
     "metadata": {
      "needs_background": "light"
     },
     "output_type": "display_data"
    }
   ],
   "source": [
    "train.tax_value.hist()"
   ]
  },
  {
   "cell_type": "markdown",
   "id": "hourly-thesaurus",
   "metadata": {},
   "source": [
    "### Takeaways so far\n",
    "- Tax value and square feet have some very extreme outliers\n",
    "- We may need to ask ourselves at this point if we should remove those outliers or not?\n",
    "- If the biz question is \"what are the drivers of tax_value for properies under 10 million\"\n",
    "- Then we'll definitely drop any values where the tax_value > 10,000,000\n",
    "- We might use our IQR rule (see the scaling lesson for that)\n",
    "- We don't automatically toss outliers. We try to get to the heart of the matter of what caused those outliers?"
   ]
  },
  {
   "cell_type": "markdown",
   "id": "stable-jefferson",
   "metadata": {},
   "source": [
    "### Let's Consider Multicolinearity..."
   ]
  },
  {
   "cell_type": "code",
   "execution_count": 14,
   "id": "equal-hepatitis",
   "metadata": {},
   "outputs": [
    {
     "data": {
      "text/html": [
       "<div>\n",
       "<style scoped>\n",
       "    .dataframe tbody tr th:only-of-type {\n",
       "        vertical-align: middle;\n",
       "    }\n",
       "\n",
       "    .dataframe tbody tr th {\n",
       "        vertical-align: top;\n",
       "    }\n",
       "\n",
       "    .dataframe thead th {\n",
       "        text-align: right;\n",
       "    }\n",
       "</style>\n",
       "<table border=\"1\" class=\"dataframe\">\n",
       "  <thead>\n",
       "    <tr style=\"text-align: right;\">\n",
       "      <th></th>\n",
       "      <th>bedrooms</th>\n",
       "      <th>bathrooms</th>\n",
       "      <th>square_feet</th>\n",
       "      <th>tax_value</th>\n",
       "    </tr>\n",
       "  </thead>\n",
       "  <tbody>\n",
       "    <tr>\n",
       "      <th>bedrooms</th>\n",
       "      <td>1.000000</td>\n",
       "      <td>0.582006</td>\n",
       "      <td>0.589331</td>\n",
       "      <td>0.261784</td>\n",
       "    </tr>\n",
       "    <tr>\n",
       "      <th>bathrooms</th>\n",
       "      <td>0.582006</td>\n",
       "      <td>1.000000</td>\n",
       "      <td>0.723200</td>\n",
       "      <td>0.469682</td>\n",
       "    </tr>\n",
       "    <tr>\n",
       "      <th>square_feet</th>\n",
       "      <td>0.589331</td>\n",
       "      <td>0.723200</td>\n",
       "      <td>1.000000</td>\n",
       "      <td>0.543268</td>\n",
       "    </tr>\n",
       "    <tr>\n",
       "      <th>tax_value</th>\n",
       "      <td>0.261784</td>\n",
       "      <td>0.469682</td>\n",
       "      <td>0.543268</td>\n",
       "      <td>1.000000</td>\n",
       "    </tr>\n",
       "  </tbody>\n",
       "</table>\n",
       "</div>"
      ],
      "text/plain": [
       "             bedrooms  bathrooms  square_feet  tax_value\n",
       "bedrooms     1.000000   0.582006     0.589331   0.261784\n",
       "bathrooms    0.582006   1.000000     0.723200   0.469682\n",
       "square_feet  0.589331   0.723200     1.000000   0.543268\n",
       "tax_value    0.261784   0.469682     0.543268   1.000000"
      ]
     },
     "execution_count": 14,
     "metadata": {},
     "output_type": "execute_result"
    }
   ],
   "source": [
    "# .corr() is linear correlation coefficient\n",
    "train.corr()"
   ]
  },
  {
   "cell_type": "code",
   "execution_count": 15,
   "id": "attempted-fraud",
   "metadata": {},
   "outputs": [
    {
     "data": {
      "text/plain": [
       "<AxesSubplot:xlabel='bedrooms', ylabel='bathrooms'>"
      ]
     },
     "execution_count": 15,
     "metadata": {},
     "output_type": "execute_result"
    },
    {
     "data": {
      "image/png": "[encoded data removed]",
      "text/plain": [
       "<Figure size 432x288 with 1 Axes>"
      ]
     },
     "metadata": {
      "needs_background": "light"
     },
     "output_type": "display_data"
    }
   ],
   "source": [
    "sns.scatterplot(x=\"bedrooms\", y=\"bathrooms\", data=train)"
   ]
  },
  {
   "cell_type": "code",
   "execution_count": 16,
   "id": "oriental-angle",
   "metadata": {},
   "outputs": [],
   "source": [
    "# It looks like bedrooms and bathrooms have some correlation, but it's not super high...\n",
    "# If we see bedroom to bathroom correlation in the mid/high 90s, we should only choose one or...\n",
    "# Handle this separately/creatively\n",
    "\n",
    "# \n",
    "train[\"bed_and_bath_count\"] = train.bedrooms + train.bathrooms"
   ]
  },
  {
   "cell_type": "code",
   "execution_count": 17,
   "id": "bottom-direction",
   "metadata": {},
   "outputs": [
    {
     "data": {
      "text/html": [
       "<div>\n",
       "<style scoped>\n",
       "    .dataframe tbody tr th:only-of-type {\n",
       "        vertical-align: middle;\n",
       "    }\n",
       "\n",
       "    .dataframe tbody tr th {\n",
       "        vertical-align: top;\n",
       "    }\n",
       "\n",
       "    .dataframe thead th {\n",
       "        text-align: right;\n",
       "    }\n",
       "</style>\n",
       "<table border=\"1\" class=\"dataframe\">\n",
       "  <thead>\n",
       "    <tr style=\"text-align: right;\">\n",
       "      <th></th>\n",
       "      <th>bedrooms</th>\n",
       "      <th>bathrooms</th>\n",
       "      <th>square_feet</th>\n",
       "      <th>tax_value</th>\n",
       "      <th>bed_and_bath_count</th>\n",
       "    </tr>\n",
       "  </thead>\n",
       "  <tbody>\n",
       "    <tr>\n",
       "      <th>bedrooms</th>\n",
       "      <td>1.000000</td>\n",
       "      <td>0.582006</td>\n",
       "      <td>0.589331</td>\n",
       "      <td>0.261784</td>\n",
       "      <td>0.891239</td>\n",
       "    </tr>\n",
       "    <tr>\n",
       "      <th>bathrooms</th>\n",
       "      <td>0.582006</td>\n",
       "      <td>1.000000</td>\n",
       "      <td>0.723200</td>\n",
       "      <td>0.469682</td>\n",
       "      <td>0.887513</td>\n",
       "    </tr>\n",
       "    <tr>\n",
       "      <th>square_feet</th>\n",
       "      <td>0.589331</td>\n",
       "      <td>0.723200</td>\n",
       "      <td>1.000000</td>\n",
       "      <td>0.543268</td>\n",
       "      <td>0.737285</td>\n",
       "    </tr>\n",
       "    <tr>\n",
       "      <th>tax_value</th>\n",
       "      <td>0.261784</td>\n",
       "      <td>0.469682</td>\n",
       "      <td>0.543268</td>\n",
       "      <td>1.000000</td>\n",
       "      <td>0.410291</td>\n",
       "    </tr>\n",
       "    <tr>\n",
       "      <th>bed_and_bath_count</th>\n",
       "      <td>0.891239</td>\n",
       "      <td>0.887513</td>\n",
       "      <td>0.737285</td>\n",
       "      <td>0.410291</td>\n",
       "      <td>1.000000</td>\n",
       "    </tr>\n",
       "  </tbody>\n",
       "</table>\n",
       "</div>"
      ],
      "text/plain": [
       "                    bedrooms  bathrooms  square_feet  tax_value  \\\n",
       "bedrooms            1.000000   0.582006     0.589331   0.261784   \n",
       "bathrooms           0.582006   1.000000     0.723200   0.469682   \n",
       "square_feet         0.589331   0.723200     1.000000   0.543268   \n",
       "tax_value           0.261784   0.469682     0.543268   1.000000   \n",
       "bed_and_bath_count  0.891239   0.887513     0.737285   0.410291   \n",
       "\n",
       "                    bed_and_bath_count  \n",
       "bedrooms                      0.891239  \n",
       "bathrooms                     0.887513  \n",
       "square_feet                   0.737285  \n",
       "tax_value                     0.410291  \n",
       "bed_and_bath_count            1.000000  "
      ]
     },
     "execution_count": 17,
     "metadata": {},
     "output_type": "execute_result"
    }
   ],
   "source": [
    "train.corr()"
   ]
  },
  {
   "cell_type": "code",
   "execution_count": null,
   "id": "defined-cleaning",
   "metadata": {},
   "outputs": [],
   "source": [
    "# if we want to use bed_and_bath_count, we avoid bedrooms and bathrooms as future features\n",
    "# since they're so correlated\n",
    "# What are some other ways to slice and dice the features?"
   ]
  },
  {
   "cell_type": "code",
   "execution_count": 18,
   "id": "flying-witness",
   "metadata": {},
   "outputs": [],
   "source": [
    "# What about square_feet_per_room\n",
    "train[\"square_ft_per_room\"] = train.square_feet / train.bed_and_bath_count"
   ]
  },
  {
   "cell_type": "code",
   "execution_count": 19,
   "id": "dried-coalition",
   "metadata": {},
   "outputs": [
    {
     "data": {
      "text/html": [
       "<div>\n",
       "<style scoped>\n",
       "    .dataframe tbody tr th:only-of-type {\n",
       "        vertical-align: middle;\n",
       "    }\n",
       "\n",
       "    .dataframe tbody tr th {\n",
       "        vertical-align: top;\n",
       "    }\n",
       "\n",
       "    .dataframe thead th {\n",
       "        text-align: right;\n",
       "    }\n",
       "</style>\n",
       "<table border=\"1\" class=\"dataframe\">\n",
       "  <thead>\n",
       "    <tr style=\"text-align: right;\">\n",
       "      <th></th>\n",
       "      <th>bedrooms</th>\n",
       "      <th>bathrooms</th>\n",
       "      <th>square_feet</th>\n",
       "      <th>tax_value</th>\n",
       "      <th>bed_and_bath_count</th>\n",
       "      <th>square_ft_per_room</th>\n",
       "    </tr>\n",
       "  </thead>\n",
       "  <tbody>\n",
       "    <tr>\n",
       "      <th>bedrooms</th>\n",
       "      <td>1.000000</td>\n",
       "      <td>0.582006</td>\n",
       "      <td>0.589331</td>\n",
       "      <td>0.261784</td>\n",
       "      <td>0.891239</td>\n",
       "      <td>-0.004548</td>\n",
       "    </tr>\n",
       "    <tr>\n",
       "      <th>bathrooms</th>\n",
       "      <td>0.582006</td>\n",
       "      <td>1.000000</td>\n",
       "      <td>0.723200</td>\n",
       "      <td>0.469682</td>\n",
       "      <td>0.887513</td>\n",
       "      <td>0.210080</td>\n",
       "    </tr>\n",
       "    <tr>\n",
       "      <th>square_feet</th>\n",
       "      <td>0.589331</td>\n",
       "      <td>0.723200</td>\n",
       "      <td>1.000000</td>\n",
       "      <td>0.543268</td>\n",
       "      <td>0.737285</td>\n",
       "      <td>0.590567</td>\n",
       "    </tr>\n",
       "    <tr>\n",
       "      <th>tax_value</th>\n",
       "      <td>0.261784</td>\n",
       "      <td>0.469682</td>\n",
       "      <td>0.543268</td>\n",
       "      <td>1.000000</td>\n",
       "      <td>0.410291</td>\n",
       "      <td>0.355736</td>\n",
       "    </tr>\n",
       "    <tr>\n",
       "      <th>bed_and_bath_count</th>\n",
       "      <td>0.891239</td>\n",
       "      <td>0.887513</td>\n",
       "      <td>0.737285</td>\n",
       "      <td>0.410291</td>\n",
       "      <td>1.000000</td>\n",
       "      <td>0.114860</td>\n",
       "    </tr>\n",
       "    <tr>\n",
       "      <th>square_ft_per_room</th>\n",
       "      <td>-0.004548</td>\n",
       "      <td>0.210080</td>\n",
       "      <td>0.590567</td>\n",
       "      <td>0.355736</td>\n",
       "      <td>0.114860</td>\n",
       "      <td>1.000000</td>\n",
       "    </tr>\n",
       "  </tbody>\n",
       "</table>\n",
       "</div>"
      ],
      "text/plain": [
       "                    bedrooms  bathrooms  square_feet  tax_value  \\\n",
       "bedrooms            1.000000   0.582006     0.589331   0.261784   \n",
       "bathrooms           0.582006   1.000000     0.723200   0.469682   \n",
       "square_feet         0.589331   0.723200     1.000000   0.543268   \n",
       "tax_value           0.261784   0.469682     0.543268   1.000000   \n",
       "bed_and_bath_count  0.891239   0.887513     0.737285   0.410291   \n",
       "square_ft_per_room -0.004548   0.210080     0.590567   0.355736   \n",
       "\n",
       "                    bed_and_bath_count  square_ft_per_room  \n",
       "bedrooms                      0.891239           -0.004548  \n",
       "bathrooms                     0.887513            0.210080  \n",
       "square_feet                   0.737285            0.590567  \n",
       "tax_value                     0.410291            0.355736  \n",
       "bed_and_bath_count            1.000000            0.114860  \n",
       "square_ft_per_room            0.114860            1.000000  "
      ]
     },
     "execution_count": 19,
     "metadata": {},
     "output_type": "execute_result"
    }
   ],
   "source": [
    "train.corr()"
   ]
  },
  {
   "cell_type": "code",
   "execution_count": 21,
   "id": "adopted-adjustment",
   "metadata": {},
   "outputs": [
    {
     "data": {
      "text/html": [
       "<div>\n",
       "<style scoped>\n",
       "    .dataframe tbody tr th:only-of-type {\n",
       "        vertical-align: middle;\n",
       "    }\n",
       "\n",
       "    .dataframe tbody tr th {\n",
       "        vertical-align: top;\n",
       "    }\n",
       "\n",
       "    .dataframe thead th {\n",
       "        text-align: right;\n",
       "    }\n",
       "</style>\n",
       "<table border=\"1\" class=\"dataframe\">\n",
       "  <thead>\n",
       "    <tr style=\"text-align: right;\">\n",
       "      <th></th>\n",
       "      <th>total_bill</th>\n",
       "      <th>tip</th>\n",
       "      <th>sex</th>\n",
       "      <th>smoker</th>\n",
       "      <th>day</th>\n",
       "      <th>time</th>\n",
       "      <th>size</th>\n",
       "      <th>bill_per_person</th>\n",
       "      <th>tip_per_person</th>\n",
       "    </tr>\n",
       "  </thead>\n",
       "  <tbody>\n",
       "    <tr>\n",
       "      <th>1</th>\n",
       "      <td>16.99</td>\n",
       "      <td>1.01</td>\n",
       "      <td>Female</td>\n",
       "      <td>No</td>\n",
       "      <td>Sun</td>\n",
       "      <td>Dinner</td>\n",
       "      <td>2</td>\n",
       "      <td>8.495000</td>\n",
       "      <td>0.505000</td>\n",
       "    </tr>\n",
       "    <tr>\n",
       "      <th>2</th>\n",
       "      <td>10.34</td>\n",
       "      <td>1.66</td>\n",
       "      <td>Male</td>\n",
       "      <td>No</td>\n",
       "      <td>Sun</td>\n",
       "      <td>Dinner</td>\n",
       "      <td>3</td>\n",
       "      <td>3.446667</td>\n",
       "      <td>0.553333</td>\n",
       "    </tr>\n",
       "    <tr>\n",
       "      <th>3</th>\n",
       "      <td>21.01</td>\n",
       "      <td>3.50</td>\n",
       "      <td>Male</td>\n",
       "      <td>No</td>\n",
       "      <td>Sun</td>\n",
       "      <td>Dinner</td>\n",
       "      <td>3</td>\n",
       "      <td>7.003333</td>\n",
       "      <td>1.166667</td>\n",
       "    </tr>\n",
       "    <tr>\n",
       "      <th>4</th>\n",
       "      <td>23.68</td>\n",
       "      <td>3.31</td>\n",
       "      <td>Male</td>\n",
       "      <td>No</td>\n",
       "      <td>Sun</td>\n",
       "      <td>Dinner</td>\n",
       "      <td>2</td>\n",
       "      <td>11.840000</td>\n",
       "      <td>1.655000</td>\n",
       "    </tr>\n",
       "    <tr>\n",
       "      <th>5</th>\n",
       "      <td>24.59</td>\n",
       "      <td>3.61</td>\n",
       "      <td>Female</td>\n",
       "      <td>No</td>\n",
       "      <td>Sun</td>\n",
       "      <td>Dinner</td>\n",
       "      <td>4</td>\n",
       "      <td>6.147500</td>\n",
       "      <td>0.902500</td>\n",
       "    </tr>\n",
       "  </tbody>\n",
       "</table>\n",
       "</div>"
      ],
      "text/plain": [
       "   total_bill   tip     sex smoker  day    time  size  bill_per_person  \\\n",
       "1       16.99  1.01  Female     No  Sun  Dinner     2         8.495000   \n",
       "2       10.34  1.66    Male     No  Sun  Dinner     3         3.446667   \n",
       "3       21.01  3.50    Male     No  Sun  Dinner     3         7.003333   \n",
       "4       23.68  3.31    Male     No  Sun  Dinner     2        11.840000   \n",
       "5       24.59  3.61  Female     No  Sun  Dinner     4         6.147500   \n",
       "\n",
       "   tip_per_person  \n",
       "1        0.505000  \n",
       "2        0.553333  \n",
       "3        1.166667  \n",
       "4        1.655000  \n",
       "5        0.902500  "
      ]
     },
     "execution_count": 21,
     "metadata": {},
     "output_type": "execute_result"
    }
   ],
   "source": [
    "# another example of making a new feature \n",
    "# Example here: make features that are per-capita or per-household\n",
    "from pydataset import data\n",
    "tips = data(\"tips\")\n",
    "tips[\"bill_per_person\"] = tips.total_bill / tips[\"size\"]\n",
    "tips[\"tip_per_person\"] = tips.tip / tips[\"size\"]\n",
    "tips.head()"
   ]
  },
  {
   "cell_type": "code",
   "execution_count": null,
   "id": "activated-constant",
   "metadata": {},
   "outputs": [],
   "source": [
    "sns.scatterplot(x=\"bedrooms\", y=\"tax_value\", data=train, hue=\"bathrooms\")"
   ]
  },
  {
   "cell_type": "code",
   "execution_count": null,
   "id": "aerial-absence",
   "metadata": {},
   "outputs": [],
   "source": [
    "sns.scatterplot(x=\"bathrooms\", y=\"tax_value\", data=train, hue=\"bathrooms\")"
   ]
  },
  {
   "cell_type": "code",
   "execution_count": null,
   "id": "opponent-criticism",
   "metadata": {},
   "outputs": [],
   "source": []
  }
 ],
 "metadata": {
  "kernelspec": {
   "display_name": "Python 3",
   "language": "python",
   "name": "python3"
  },
  "language_info": {
   "codemirror_mode": {
    "name": "ipython",
    "version": 3
   },
   "file_extension": ".py",
   "mimetype": "text/x-python",
   "name": "python",
   "nbconvert_exporter": "python",
   "pygments_lexer": "ipython3",
   "version": "3.7.3"
  }
 },
 "nbformat": 4,
 "nbformat_minor": 5
}
